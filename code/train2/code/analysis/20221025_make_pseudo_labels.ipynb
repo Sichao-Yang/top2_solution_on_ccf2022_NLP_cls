{
 "cells": [
  {
   "cell_type": "markdown",
   "metadata": {},
   "source": [
    "### make pseudo labels from csv"
   ]
  },
  {
   "cell_type": "code",
   "execution_count": 10,
   "metadata": {},
   "outputs": [],
   "source": [
    "import json"
   ]
  },
  {
   "cell_type": "code",
   "execution_count": 11,
   "metadata": {},
   "outputs": [],
   "source": [
    "anns = {}\n",
    "path = '/home/yfzx/work/yangsc/ccfcls/result/20221103_18-8_6433/submit_cv0.csv'\n",
    "with open(path,'r',encoding='utf8') as f:\n",
    "    for i, line in enumerate(f.readlines()):\n",
    "        if i == 0:\n",
    "            continue\n",
    "        id, label = line.strip().split(',')\n",
    "        anns[id] = label"
   ]
  },
  {
   "cell_type": "code",
   "execution_count": 12,
   "metadata": {},
   "outputs": [],
   "source": [
    "path = '/home/yfzx/work/yangsc/ccfcls/data/testA.json'\n",
    "pseudo = []\n",
    "with open(path,'r',encoding='utf8') as f:\n",
    "    for line in f.readlines():\n",
    "        tmp =json.loads(line)\n",
    "        tmp['label_id'] = int(anns[tmp['id']])\n",
    "        pseudo.append(tmp)"
   ]
  },
  {
   "cell_type": "code",
   "execution_count": 13,
   "metadata": {},
   "outputs": [
    {
     "data": {
      "text/plain": [
       "[{'id': '003fd481e65ddc070e38ae05002e16e2',\n",
       "  'title': '一种耐磨、抗粘钢复合涂层、制备方法及应用',\n",
       "  'assignee': '安徽马钢表面技术股份有限公司',\n",
       "  'abstract': '本发明公开了一种耐磨、抗粘钢复合涂层、制备方法及应用，包括基体和基体上由内到外依次设置的过渡层、高硬基层、超硬表层；过渡层采用焊材堆焊而成，焊材成分按重量计包括：0.02～0.04％C，16～19％Cr，1.2～1.6％Mn，0.5～0.8％Ni，0.2～0.4％Si，余量为Fe；高硬基层采用焊材堆焊而成，焊材成分按重量计包括：0.7～0.8％C，3.8～5.8％Cr，0.6～1.0％Mn，0.7～1.5％Mo，0.2～0.6％Si，0.4～0.8％V，8.1～9.1％W，余量为Fe；超硬表层采用金属基陶瓷材料喷涂而成，金属基陶瓷材料成分包括碳化钨和Co，本发明采用堆焊和喷涂的复合强化工艺，焊接层和喷涂层结合良好、硬度高，提升了矫直辊表面的硬化效果，改善了矫直辊辊面的耐磨性、抗划伤性和抗粘钢性。',\n",
       "  'label_id': 23},\n",
       " {'id': '549a1cd8228bd10f18395a0625fcc70d',\n",
       "  'title': '一种用于提高橡胶抗湿滑性的树脂的制备方法及其应用',\n",
       "  'assignee': '江苏麒祥高新材料有限公司',\n",
       "  'abstract': '本发明公开了一种用于提高橡胶抗湿滑性的树脂的制备方法，第一步：将R树脂和B官能团化合物进行反应，得到R‑B树脂，改善R树脂的聚合度；其中，R树脂选自C9石油树脂、C5石油树脂、α‑甲基苯乙烯均聚树脂、DCPD树脂、萜烯类树脂、蒎烯类树脂或基于α‑甲基苯乙烯为主链的共聚类树脂，B官能团化合物选自苯酚、腰果酚、乙叉降冰片烯(ENB)、松香、六甲氧基三聚氰胺树脂(HMMM)或二乙烯苯；第二步：将R‑B树脂与S硅烷反应，得到R‑B‑S树脂。本发明制得的树脂用于添加在橡胶中，可以有效地分散于橡胶内部，在硫化过程中分布于轮胎胎面中，显著的提高橡胶抗湿滑性。',\n",
       "  'label_id': 5}]"
      ]
     },
     "execution_count": 13,
     "metadata": {},
     "output_type": "execute_result"
    }
   ],
   "source": [
    "pseudo[:2]"
   ]
  },
  {
   "cell_type": "code",
   "execution_count": 14,
   "metadata": {},
   "outputs": [],
   "source": [
    "from os import path as osp\n",
    "with open(osp.join('/home/yfzx/work/yangsc/ccfcls/data', f'pseudo_labels_6448.json'), 'w') as f:\n",
    "    for n in pseudo:\n",
    "        f.writelines(json.dumps(n, ensure_ascii=False)+'\\n')"
   ]
  },
  {
   "cell_type": "markdown",
   "metadata": {},
   "source": [
    "## merge AB"
   ]
  },
  {
   "cell_type": "code",
   "execution_count": 4,
   "metadata": {},
   "outputs": [],
   "source": [
    "import json\n",
    "pseudo=list()\n",
    "with open('/home/yfzx/work/yangsc/ccfcls/data/pseudo_labels_6448.json','r',encoding='utf8') as f:\n",
    "    for line in f.readlines():\n",
    "        pseudo.append(json.loads(line))\n",
    "\n",
    "with open('/home/yfzx/work/yangsc/ccfcls/data/pseudo_labels_B.json','r',encoding='utf8') as f:\n",
    "    for line in f.readlines():\n",
    "        pseudo.append(json.loads(line))"
   ]
  },
  {
   "cell_type": "code",
   "execution_count": 6,
   "metadata": {},
   "outputs": [],
   "source": [
    "from os import path as osp\n",
    "with open(osp.join('/home/yfzx/work/yangsc/ccfcls/data', f'pseudo_labels_AB.json'), 'w') as f:\n",
    "    for n in pseudo:\n",
    "        f.writelines(json.dumps(n, ensure_ascii=False)+'\\n')"
   ]
  },
  {
   "cell_type": "code",
   "execution_count": null,
   "metadata": {},
   "outputs": [],
   "source": []
  }
 ],
 "metadata": {
  "kernelspec": {
   "display_name": "Python 3.8.0 ('yangsc_torch15')",
   "language": "python",
   "name": "python3"
  },
  "language_info": {
   "codemirror_mode": {
    "name": "ipython",
    "version": 3
   },
   "file_extension": ".py",
   "mimetype": "text/x-python",
   "name": "python",
   "nbconvert_exporter": "python",
   "pygments_lexer": "ipython3",
   "version": "3.8.0"
  },
  "orig_nbformat": 4,
  "vscode": {
   "interpreter": {
    "hash": "61fcbaeeda308cce842442d0328fb7a72a4b7fd10184aafa6a1c907b6d16a8b5"
   }
  }
 },
 "nbformat": 4,
 "nbformat_minor": 2
}
