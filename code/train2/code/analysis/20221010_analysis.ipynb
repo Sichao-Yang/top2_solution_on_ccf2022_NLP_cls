{
 "cells": [
  {
   "cell_type": "markdown",
   "metadata": {},
   "source": [
    "### make pseudo labels from csv"
   ]
  },
  {
   "cell_type": "markdown",
   "metadata": {},
   "source": [
    "### Analysis Part"
   ]
  },
  {
   "cell_type": "code",
   "execution_count": 50,
   "metadata": {},
   "outputs": [],
   "source": [
    "import random\n",
    "anns = {}\n",
    "path = '/home/yfzx/work/yangsc/ccf2022_cls/best620/submit_ensemble_620.csv'\n",
    "with open(path,'r',encoding='utf8') as f:\n",
    "    for i, line in enumerate(f.readlines()):\n",
    "        if i == 0:\n",
    "            continue\n",
    "        id, label = line.strip().split(',')\n",
    "        anns[id] = label"
   ]
  },
  {
   "cell_type": "code",
   "execution_count": 51,
   "metadata": {},
   "outputs": [],
   "source": [
    "anns2 = {}\n",
    "path = '/home/yfzx/work/yangsc/ccf2022_cls/best620/output/submit_ensemble_v.csv'\n",
    "with open(path,'r',encoding='utf8') as f:\n",
    "    for i, line in enumerate(f.readlines()):\n",
    "        if i == 0:\n",
    "            continue\n",
    "        id, label = line.strip().split(',')\n",
    "        anns2[id] = label"
   ]
  },
  {
   "cell_type": "code",
   "execution_count": 52,
   "metadata": {},
   "outputs": [
    {
     "data": {
      "text/plain": [
       "20839"
      ]
     },
     "execution_count": 52,
     "metadata": {},
     "output_type": "execute_result"
    }
   ],
   "source": [
    "len(anns2)"
   ]
  },
  {
   "cell_type": "code",
   "execution_count": 53,
   "metadata": {},
   "outputs": [],
   "source": [
    "def compare(anns, anss2):\n",
    "    counter = 0\n",
    "    ids = []\n",
    "    for k in anns:\n",
    "        if anns[k]!=anns2[k]:\n",
    "            # print(k)\n",
    "            # print(anns[k],anns2[k])\n",
    "            counter+=1\n",
    "            ids.append(k)\n",
    "    print(counter)\n",
    "    return ids"
   ]
  },
  {
   "cell_type": "code",
   "execution_count": 54,
   "metadata": {},
   "outputs": [],
   "source": [
    "anns3 = {}\n",
    "path = '/home/yfzx/work/yangsc/ccf2022_cls/best620/output/submit_ensemble_p.csv'\n",
    "with open(path,'r',encoding='utf8') as f:\n",
    "    for i, line in enumerate(f.readlines()):\n",
    "        if i == 0:\n",
    "            continue\n",
    "        id, label = line.strip().split(',')\n",
    "        anns3[id] = label"
   ]
  },
  {
   "cell_type": "code",
   "execution_count": 55,
   "metadata": {},
   "outputs": [
    {
     "name": "stdout",
     "output_type": "stream",
     "text": [
      "400\n"
     ]
    }
   ],
   "source": [
    "ids2 = compare(anns, anns2)"
   ]
  },
  {
   "cell_type": "code",
   "execution_count": 56,
   "metadata": {},
   "outputs": [
    {
     "name": "stdout",
     "output_type": "stream",
     "text": [
      "400\n"
     ]
    }
   ],
   "source": [
    "ids3 = compare(anns, anns3)"
   ]
  },
  {
   "cell_type": "code",
   "execution_count": 57,
   "metadata": {},
   "outputs": [
    {
     "data": {
      "text/plain": [
       "2434"
      ]
     },
     "execution_count": 57,
     "metadata": {},
     "output_type": "execute_result"
    }
   ],
   "source": [
    "len(replace_ids)"
   ]
  },
  {
   "cell_type": "code",
   "execution_count": 58,
   "metadata": {},
   "outputs": [
    {
     "data": {
      "text/plain": [
       "2034"
      ]
     },
     "execution_count": 58,
     "metadata": {},
     "output_type": "execute_result"
    }
   ],
   "source": [
    "len(set(replace_ids) - set(ids2))"
   ]
  },
  {
   "cell_type": "code",
   "execution_count": 59,
   "metadata": {},
   "outputs": [
    {
     "data": {
      "text/plain": [
       "True"
      ]
     },
     "execution_count": 59,
     "metadata": {},
     "output_type": "execute_result"
    }
   ],
   "source": [
    "set(ids2)==set(ids3)\n",
    "set(ids3)==set(ids2)"
   ]
  },
  {
   "cell_type": "markdown",
   "metadata": {},
   "source": [
    "### 说明我们现在的模型，不是当初做出来0.62得分的模型，那个模型丢了"
   ]
  },
  {
   "cell_type": "code",
   "execution_count": 60,
   "metadata": {},
   "outputs": [],
   "source": [
    "path = '/home/yfzx/work/yangsc/ccf2022_cls/best620/output/pseudo_labels.json'\n",
    "import json\n",
    "pseudo = []\n",
    "with open(path,'r',encoding='utf8') as f:\n",
    "    for line in f.readlines():\n",
    "        tmp =json.loads(line)\n",
    "        pseudo.append(tmp)"
   ]
  },
  {
   "cell_type": "code",
   "execution_count": 61,
   "metadata": {},
   "outputs": [
    {
     "data": {
      "text/plain": [
       "18405"
      ]
     },
     "execution_count": 61,
     "metadata": {},
     "output_type": "execute_result"
    }
   ],
   "source": [
    "pseudo_ids = [x['id'] for x in pseudo]\n",
    "len(pseudo_ids)"
   ]
  },
  {
   "cell_type": "code",
   "execution_count": 62,
   "metadata": {},
   "outputs": [
    {
     "data": {
      "text/plain": [
       "2434"
      ]
     },
     "execution_count": 62,
     "metadata": {},
     "output_type": "execute_result"
    }
   ],
   "source": [
    "replace_ids = list(set(anns.keys()) - set(pseudo_ids))\n",
    "len(replace_ids)"
   ]
  },
  {
   "cell_type": "markdown",
   "metadata": {},
   "source": [
    "### 620的结果里，有2400多条数据没有被选入pseudo label，我们把这些没选入的数据拿出来，用他们的label来替换用伪标签做出来的提交结果（0.605）的label。发现直接从0.60提升回到了0.6207(比原版的0.6204还要高)，看来当初筛选的伪标签是存在问题的。"
   ]
  },
  {
   "cell_type": "code",
   "execution_count": 63,
   "metadata": {},
   "outputs": [
    {
     "name": "stdout",
     "output_type": "stream",
     "text": [
      "replaced counts 2434\n"
     ]
    }
   ],
   "source": [
    "anns4 = {}\n",
    "counter=0\n",
    "path = '/home/yfzx/work/yangsc/ccf2022_cls/best620/sub_20221009_16_52.csv'\n",
    "with open(path,'r',encoding='utf8') as f:\n",
    "    for i, line in enumerate(f.readlines()):\n",
    "        if i == 0:\n",
    "            continue\n",
    "        id, label = line.strip().split(',')\n",
    "        anns4[id] = label\n",
    "        if id in replace_ids:\n",
    "            counter+=1\n",
    "            anns4[id] = anns[id]\n",
    "print(f'replaced counts {counter}')"
   ]
  },
  {
   "cell_type": "code",
   "execution_count": 64,
   "metadata": {},
   "outputs": [],
   "source": [
    "with open('/home/yfzx/work/yangsc/ccf2022_cls/best620/replaced_sub.csv', 'w') as f:\n",
    "    f.write(f'id,label\\n')\n",
    "    for id, label in anns4.items():\n",
    "        f.write(f'{id},{label}\\n')"
   ]
  },
  {
   "cell_type": "markdown",
   "metadata": {},
   "source": [
    "### 我们来分析下这筛选掉的2400多条数据的标签分布"
   ]
  },
  {
   "cell_type": "code",
   "execution_count": 65,
   "metadata": {},
   "outputs": [
    {
     "data": {
      "text/plain": [
       "array([2460,  760, 4242,  252,  420, 1199,  812, 1040,  866,  360, 2228,\n",
       "        827,   19,  513,  144,  437,  315,  197,  277,  209,  899,  435,\n",
       "          6,  380,  331,  174,  224,   92,   31,   94,  122,  113,    7,\n",
       "        164,  155,   35])"
      ]
     },
     "execution_count": 65,
     "metadata": {},
     "output_type": "execute_result"
    }
   ],
   "source": [
    "import numpy as np\n",
    "\n",
    "labels = [int(v) for k,v in anns.items()]\n",
    "_, counts_full = np.unique(labels, return_counts=True)\n",
    "counts_full"
   ]
  },
  {
   "cell_type": "code",
   "execution_count": 66,
   "metadata": {},
   "outputs": [],
   "source": [
    "import matplotlib.pyplot as plt\n",
    "\n",
    "def plot_bars(counts):\n",
    "    freq = [x/sum(counts) for x in counts]\n",
    "\n",
    "    xs=[*range(len(freq))]\n",
    "    ys=freq\n",
    "\n",
    "    plt.figure(figsize=(10,6), dpi=100)\n",
    "    for x, y in zip(xs, ys):\n",
    "        plt.bar(x, height=y, width=0.5)\n",
    "    plt.show()"
   ]
  },
  {
   "cell_type": "code",
   "execution_count": 67,
   "metadata": {},
   "outputs": [
    {
     "data": {
      "image/png": "[encoded data removed]",
      "text/plain": [
       "<Figure size 1000x600 with 1 Axes>"
      ]
     },
     "metadata": {},
     "output_type": "display_data"
    }
   ],
   "source": [
    "plot_bars(counts_full)"
   ]
  },
  {
   "cell_type": "code",
   "execution_count": 68,
   "metadata": {},
   "outputs": [
    {
     "data": {
      "text/plain": [
       "array([2313,  707, 3814,  172,  313, 1058,  709,  934,  788,  297, 2030,\n",
       "        708,    9,  385,  109,  390,  300,  164,  200,  199,  840,  346,\n",
       "          2,  317,  311,  160,  206,   56,   11,   73,   81,  102,    1,\n",
       "        136,  135,   29])"
      ]
     },
     "execution_count": 68,
     "metadata": {},
     "output_type": "execute_result"
    }
   ],
   "source": [
    "pl = [x['label_id'] for x in pseudo]\n",
    "_, counts_pl = np.unique(pl, return_counts=True)\n",
    "counts_pl"
   ]
  },
  {
   "cell_type": "code",
   "execution_count": 69,
   "metadata": {},
   "outputs": [
    {
     "data": {
      "image/png": "[encoded data removed]",
      "text/plain": [
       "<Figure size 1000x600 with 1 Axes>"
      ]
     },
     "metadata": {},
     "output_type": "display_data"
    }
   ],
   "source": [
    "plot_bars(counts_pl)"
   ]
  },
  {
   "cell_type": "code",
   "execution_count": 70,
   "metadata": {},
   "outputs": [
    {
     "data": {
      "text/plain": [
       "array([147,  53, 428,  80, 107, 141, 103, 106,  78,  63, 198, 119,  10,\n",
       "       128,  35,  47,  15,  33,  77,  10,  59,  89,   4,  63,  20,  14,\n",
       "        18,  36,  20,  21,  41,  11,   6,  28,  20,   6])"
      ]
     },
     "execution_count": 70,
     "metadata": {},
     "output_type": "execute_result"
    }
   ],
   "source": [
    "re = [int(anns[k]) for k in anns if k in replace_ids]\n",
    "_, counts_re = np.unique(re, return_counts=True)\n",
    "counts_re"
   ]
  },
  {
   "cell_type": "code",
   "execution_count": 71,
   "metadata": {},
   "outputs": [
    {
     "data": {
      "image/png": "[encoded data removed]",
      "text/plain": [
       "<Figure size 1000x600 with 1 Axes>"
      ]
     },
     "metadata": {},
     "output_type": "display_data"
    }
   ],
   "source": [
    "plot_bars(counts_re)"
   ]
  },
  {
   "cell_type": "code",
   "execution_count": 72,
   "metadata": {},
   "outputs": [
    {
     "data": {
      "text/plain": [
       "array([ 33,  19, 183,  33,  44,  36,  47,  48,  39,  25,  52,  54,   7,\n",
       "        16,  19,  33,  17,  13,  16,  13,  25,  12,   5,  22,  29,  16,\n",
       "        17,  22,   8,   7,  13,   4,   5,   8,  12,   6])"
      ]
     },
     "execution_count": 72,
     "metadata": {},
     "output_type": "execute_result"
    }
   ],
   "source": [
    "path = '/home/yfzx/work/yangsc/ccf2022_cls/data/train.json'\n",
    "train = []\n",
    "with open(path,'r',encoding='utf8') as f:\n",
    "    for line in f.readlines():\n",
    "        tmp =json.loads(line)\n",
    "        train.append(tmp)\n",
    "\n",
    "tr = [x['label_id'] for x in train]\n",
    "_, counts_tr = np.unique(tr, return_counts=True)\n",
    "counts_tr"
   ]
  },
  {
   "cell_type": "code",
   "execution_count": 73,
   "metadata": {},
   "outputs": [
    {
     "data": {
      "image/png": "[encoded data removed]",
      "text/plain": [
       "<Figure size 1000x600 with 1 Axes>"
      ]
     },
     "metadata": {},
     "output_type": "display_data"
    }
   ],
   "source": [
    "plot_bars(counts_tr)"
   ]
  },
  {
   "cell_type": "code",
   "execution_count": 74,
   "metadata": {},
   "outputs": [
    {
     "data": {
      "image/png": "[encoded data removed]",
      "text/plain": [
       "<Figure size 1500x600 with 1 Axes>"
      ]
     },
     "metadata": {},
     "output_type": "display_data"
    }
   ],
   "source": [
    "plt.figure(figsize=(15,6), dpi=100)\n",
    "n = 4\n",
    "width = 1/n\n",
    "r = np.arange(len(counts_full))\n",
    "f = lambda x: [y/sum(x) for y in x]\n",
    "\n",
    "plt.bar(r, f(counts_full), color = 'b',\n",
    "        width = width, edgecolor = 'black',\n",
    "        label='full')\n",
    "plt.bar(r+1*width, f(counts_pl), color = 'k',\n",
    "        width = width, edgecolor = 'black',\n",
    "        label='pl')\n",
    "plt.bar(r+2*width, f(counts_re), color = 'g',\n",
    "        width = width, edgecolor = 'black',\n",
    "        label='re')\n",
    "plt.bar(r+3*width, f(counts_tr), color = 'r',\n",
    "        width = 1/n, edgecolor = 'black',\n",
    "        label='ori_tr')\n",
    "plt.legend()\n",
    "plt.show()"
   ]
  },
  {
   "cell_type": "markdown",
   "metadata": {},
   "source": [
    "### 上面这张图很明显的可以看出，对比pl, removed的都是小样本类别，而这些恰恰是提分最关键的类别，我们却都因为模型预测的一致性不够高（voting）或者预测不够确定（prob_merging）把这些关键的类别标签丢掉了。"
   ]
  },
  {
   "cell_type": "code",
   "execution_count": 75,
   "metadata": {},
   "outputs": [
    {
     "data": {
      "image/png": "[encoded data removed]",
      "text/plain": [
       "<Figure size 1000x600 with 1 Axes>"
      ]
     },
     "metadata": {},
     "output_type": "display_data"
    }
   ],
   "source": [
    "diff400 = [int(anns[x]) for x in ids2]\n",
    "_, counts_diff = np.unique(diff400, return_counts=True)\n",
    "plot_bars(counts_diff)"
   ]
  },
  {
   "cell_type": "code",
   "execution_count": 84,
   "metadata": {},
   "outputs": [],
   "source": [
    "###把最好的620的pseudolabel做好\n",
    "\n",
    "path1 = '/home/yfzx/work/yangsc/ccf2022_cls/data/testA.json' \n",
    "path2 = '/home/yfzx/work/yangsc/ccf2022_cls/data/pseudo_labels.json'\n",
    "\n",
    "test = []\n",
    "with open(path1,'r',encoding='utf8') as f:\n",
    "    for line in f.readlines():\n",
    "        tmp =json.loads(line)\n",
    "        tmp['label_id'] = int(anns[tmp['id']])\n",
    "        test.append(tmp)\n",
    "# print(len(anns))\n",
    "with open(path2, 'w') as f:\n",
    "    for n in test:\n",
    "        f.writelines(json.dumps(n, ensure_ascii=False)+'\\n')"
   ]
  },
  {
   "cell_type": "code",
   "execution_count": 81,
   "metadata": {},
   "outputs": [],
   "source": [
    "new = {}\n",
    "path = '/home/yfzx/work/yangsc/ccf2022_cls/best620/submit_ensemble.csv'\n",
    "# path = '/home/yfzx/work/yangsc/ccf2022_cls/sub_20221010_17_52.csv'\n",
    "with open(path,'r',encoding='utf8') as f:\n",
    "    for i, line in enumerate(f.readlines()):\n",
    "        if i == 0:\n",
    "            continue\n",
    "        id, label = line.strip().split(',')\n",
    "        new[id] = label"
   ]
  },
  {
   "cell_type": "code",
   "execution_count": 82,
   "metadata": {},
   "outputs": [
    {
     "data": {
      "text/plain": [
       "0.6922760887428102"
      ]
     },
     "execution_count": 82,
     "metadata": {},
     "output_type": "execute_result"
    }
   ],
   "source": [
    "tot = len(replace_ids)\n",
    "acc = 0\n",
    "for id in replace_ids:\n",
    "    if anns[id] == new[id]:\n",
    "        acc+=1\n",
    "\n",
    "acc/tot"
   ]
  },
  {
   "cell_type": "code",
   "execution_count": null,
   "metadata": {},
   "outputs": [],
   "source": []
  }
 ],
 "metadata": {
  "kernelspec": {
   "display_name": "Python 3.8.0 ('yangsc_torch15')",
   "language": "python",
   "name": "python3"
  },
  "language_info": {
   "codemirror_mode": {
    "name": "ipython",
    "version": 3
   },
   "file_extension": ".py",
   "mimetype": "text/x-python",
   "name": "python",
   "nbconvert_exporter": "python",
   "pygments_lexer": "ipython3",
   "version": "3.8.0"
  },
  "orig_nbformat": 4,
  "vscode": {
   "interpreter": {
    "hash": "61fcbaeeda308cce842442d0328fb7a72a4b7fd10184aafa6a1c907b6d16a8b5"
   }
  }
 },
 "nbformat": 4,
 "nbformat_minor": 2
}
