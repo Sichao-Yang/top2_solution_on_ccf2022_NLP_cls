{
 "cells": [
  {
   "cell_type": "code",
   "execution_count": 1,
   "metadata": {},
   "outputs": [
    {
     "name": "stderr",
     "output_type": "stream",
     "text": [
      "/home/yfzx/anaconda3/envs/yangsc_torch15/lib/python3.8/site-packages/tqdm/auto.py:22: TqdmWarning: IProgress not found. Please update jupyter and ipywidgets. See https://ipywidgets.readthedocs.io/en/stable/user_install.html\n",
      "  from .autonotebook import tqdm as notebook_tqdm\n"
     ]
    }
   ],
   "source": [
    "import transformers\n",
    "from os import path as osp\n",
    "import sys\n",
    "from config import parse_args\n",
    "from data_helper import BaseModelDataset\n",
    "from torch.utils.data import SequentialSampler, DataLoader\n",
    "from model import Model_v1 as Model\n",
    "import torch\n",
    "import os\n",
    "import numpy as np\n",
    "from utils import eval_fcn\n",
    "from tqdm import tqdm"
   ]
  },
  {
   "cell_type": "code",
   "execution_count": 2,
   "metadata": {},
   "outputs": [],
   "source": [
    "args = parse_args()\n",
    "sys.path.append(args.root)"
   ]
  },
  {
   "cell_type": "code",
   "execution_count": 3,
   "metadata": {},
   "outputs": [],
   "source": [
    "import json\n",
    "from logger import get_logger\n",
    "logging = get_logger(filename='tmp.log')\n",
    "\n",
    "anns=list()\n",
    "with open(args.train_filepath,'r',encoding='utf8') as f:\n",
    "    for line in f.readlines():\n",
    "        ann =json.loads(line)\n",
    "        anns.append(ann)"
   ]
  },
  {
   "cell_type": "code",
   "execution_count": 4,
   "metadata": {},
   "outputs": [],
   "source": [
    "dataset = BaseModelDataset(args, anns, test_mode=False)\n",
    "sampler = SequentialSampler(dataset)\n",
    "dataloader = DataLoader(dataset,\n",
    "                        batch_size=args.test_batch_size,\n",
    "                        sampler=sampler,\n",
    "                        drop_last=False,\n",
    "                        pin_memory=True,\n",
    "                        num_workers=args.num_workers,\n",
    "                        prefetch_factor=args.prefetch)"
   ]
  },
  {
   "cell_type": "code",
   "execution_count": 6,
   "metadata": {},
   "outputs": [
    {
     "name": "stderr",
     "output_type": "stream",
     "text": [
      "Some weights of the model checkpoint at /home/yfzx/work/yangsc/ccf2022_cls/data/model/pytorch/chinese-roberta-wwm-ext were not used when initializing BertModel: ['cls.predictions.bias', 'cls.predictions.transform.LayerNorm.bias', 'cls.predictions.transform.LayerNorm.weight', 'cls.predictions.decoder.weight', 'cls.predictions.decoder.bias', 'cls.predictions.transform.dense.weight', 'cls.predictions.transform.dense.bias']\n",
      "- This IS expected if you are initializing BertModel from the checkpoint of a model trained on another task or with another architecture (e.g. initializing a BertForSequenceClassification model from a BertForPreTraining model).\n",
      "- This IS NOT expected if you are initializing BertModel from the checkpoint of a model that you expect to be exactly identical (initializing a BertForSequenceClassification model from a BertForSequenceClassification model).\n",
      "Some weights of BertModel were not initialized from the model checkpoint at /home/yfzx/work/yangsc/ccf2022_cls/data/model/pytorch/chinese-roberta-wwm-ext and are newly initialized: ['bert.pooler.dense.bias', 'bert.pooler.dense.weight']\n",
      "You should probably TRAIN this model on a down-stream task to be able to use it for predictions and inference.\n"
     ]
    },
    {
     "data": {
      "text/plain": [
       "<All keys matched successfully>"
      ]
     },
     "execution_count": 6,
     "metadata": {},
     "output_type": "execute_result"
    }
   ],
   "source": [
    "# 2. load model\n",
    "model = Model(args)\n",
    "if torch.cuda.is_available():\n",
    "    model = model.cuda()\n",
    "\n",
    "cv = 0\n",
    "# get the filename of the max f1 score from this cv\n",
    "thiscv = [x for x in os.listdir(args.savedmodel_filepath) if f'cv{cv}' in x]\n",
    "f1s = np.array([eval('0.'+x.split('_')[-1].split('.')[1]) for x in thiscv])\n",
    "selected = thiscv[np.where(f1s==max(f1s))[0][0]]\n",
    "args.ckpt_file = osp.join(args.savedmodel_filepath, selected)\n",
    "\n",
    "checkpoint = torch.load(args.ckpt_file)\n",
    "model.load_state_dict(checkpoint['model_state_dict'],strict=False)"
   ]
  },
  {
   "cell_type": "markdown",
   "metadata": {},
   "source": [
    "### here we test f1 score for whole trainset before split"
   ]
  },
  {
   "cell_type": "code",
   "execution_count": 7,
   "metadata": {},
   "outputs": [
    {
     "name": "stderr",
     "output_type": "stream",
     "text": [
      "100%|██████████| 4/4 [00:10<00:00,  2.71s/it]"
     ]
    },
    {
     "name": "stdout",
     "output_type": "stream",
     "text": [
      "958\n"
     ]
    },
    {
     "name": "stderr",
     "output_type": "stream",
     "text": [
      "\n"
     ]
    },
    {
     "data": {
      "text/plain": [
       "{'f1_macro': 0.9532639912947807,\n",
       " 'f1_micro': 0.9613778705636743,\n",
       " 'f1_weight': 0.9612706800788096}"
      ]
     },
     "execution_count": 7,
     "metadata": {},
     "output_type": "execute_result"
    }
   ],
   "source": [
    "# 3. inference\n",
    "model.eval()\n",
    "predictions = []\n",
    "true_labels = []\n",
    "with torch.no_grad():\n",
    "    for batch in tqdm(dataloader):\n",
    "        batch = {k:v.to('cuda') for k,v in batch.items()}\n",
    "        pred_label_id, out = model(data=batch)\n",
    "        predictions.extend(pred_label_id.cpu().numpy())\n",
    "        true_labels.extend(batch['label'].cpu().numpy())\n",
    "\n",
    "results = eval_fcn(predictions, true_labels)\n",
    "print(len(true_labels))\n",
    "results"
   ]
  },
  {
   "cell_type": "markdown",
   "metadata": {},
   "source": [
    "### test f1 score difference between train and test sets"
   ]
  },
  {
   "cell_type": "code",
   "execution_count": 98,
   "metadata": {},
   "outputs": [
    {
     "name": "stdout",
     "output_type": "stream",
     "text": [
      "result at cv0\n"
     ]
    },
    {
     "name": "stderr",
     "output_type": "stream",
     "text": [
      "100%|██████████| 6/6 [00:16<00:00,  2.70s/it]\n"
     ]
    },
    {
     "name": "stdout",
     "output_type": "stream",
     "text": [
      "trainset score: {'f1_macro': 1.0, 'f1_micro': 1.0, 'f1_weight': 1.0}\n"
     ]
    },
    {
     "name": "stderr",
     "output_type": "stream",
     "text": [
      "100%|██████████| 2/2 [00:02<00:00,  1.22s/it]\n"
     ]
    },
    {
     "name": "stdout",
     "output_type": "stream",
     "text": [
      "valset score: {'f1_macro': 0.6895344239094239, 'f1_micro': 0.76875, 'f1_weight': 0.7484969457625709}\n",
      "[0.92307692 0.8        0.8125     0.8        0.6        0.85714286\n",
      " 0.625      0.875      0.75       1.         0.66666667 0.66666667\n",
      " 0.         0.66666667 0.         0.90909091 1.         0.4\n",
      " 0.85714286 1.         0.85714286 0.66666667 0.66666667 0.85714286\n",
      " 1.         1.         1.         0.4        0.         0.66666667\n",
      " 0.66666667 0.66666667 0.         1.         0.5        0.66666667]\n",
      "0.6895344239094239\n",
      "result at cv1\n"
     ]
    },
    {
     "name": "stderr",
     "output_type": "stream",
     "text": [
      "100%|██████████| 6/6 [00:16<00:00,  2.71s/it]\n"
     ]
    },
    {
     "name": "stdout",
     "output_type": "stream",
     "text": [
      "trainset score: {'f1_macro': 0.9977485362356977, 'f1_micro': 0.9967447916666666, 'f1_weight': 0.9967274480647613}\n"
     ]
    },
    {
     "name": "stderr",
     "output_type": "stream",
     "text": [
      "100%|██████████| 2/2 [00:02<00:00,  1.23s/it]\n"
     ]
    },
    {
     "name": "stdout",
     "output_type": "stream",
     "text": [
      "valset score: {'f1_macro': 0.6484273161771581, 'f1_micro': 0.71875, 'f1_weight': 0.6994536021510641}\n",
      "[0.66666667 0.75       0.74193548 0.72727273 0.25       0.90909091\n",
      " 0.66666667 0.88888889 0.76923077 0.72727273 0.66666667 0.70588235\n",
      " 0.         0.         0.8        0.85714286 1.         1.\n",
      " 0.66666667 0.66666667 0.85714286 0.66666667 0.         0.75\n",
      " 0.8        0.66666667 0.66666667 0.57142857 0.66666667 1.\n",
      " 0.66666667 1.         0.         1.         0.57142857 0.        ]\n",
      "0.6484273161771581\n",
      "result at cv2\n"
     ]
    },
    {
     "name": "stderr",
     "output_type": "stream",
     "text": [
      "100%|██████████| 6/6 [00:16<00:00,  2.72s/it]\n"
     ]
    },
    {
     "name": "stdout",
     "output_type": "stream",
     "text": [
      "trainset score: {'f1_macro': 1.0, 'f1_micro': 1.0, 'f1_weight': 1.0}\n"
     ]
    },
    {
     "name": "stderr",
     "output_type": "stream",
     "text": [
      "100%|██████████| 2/2 [00:02<00:00,  1.22s/it]\n"
     ]
    },
    {
     "name": "stdout",
     "output_type": "stream",
     "text": [
      "valset score: {'f1_macro': 0.6666374409001138, 'f1_micro': 0.75625, 'f1_weight': 0.7392630219243123}\n",
      "[1.         0.85714286 0.77419355 0.85714286 0.66666667 0.57142857\n",
      " 0.53333333 0.875      0.54545455 0.90909091 0.76190476 0.75\n",
      " 0.         0.75       0.85714286 0.8        1.         0.8\n",
      " 0.66666667 1.         0.85714286 0.5        0.         0.8\n",
      " 0.8        0.66666667 0.66666667 0.8        0.         1.\n",
      " 0.8        0.         0.8        0.66666667 0.        ]\n",
      "0.6666374409001138\n",
      "result at cv3\n"
     ]
    },
    {
     "name": "stderr",
     "output_type": "stream",
     "text": [
      "100%|██████████| 6/6 [00:16<00:00,  2.73s/it]\n"
     ]
    },
    {
     "name": "stdout",
     "output_type": "stream",
     "text": [
      "trainset score: {'f1_macro': 0.9987944066515495, 'f1_micro': 0.9986979166666666, 'f1_weight': 0.9986740894274376}\n"
     ]
    },
    {
     "name": "stderr",
     "output_type": "stream",
     "text": [
      "100%|██████████| 2/2 [00:02<00:00,  1.24s/it]\n"
     ]
    },
    {
     "name": "stdout",
     "output_type": "stream",
     "text": [
      "valset score: {'f1_macro': 0.6820797540591987, 'f1_micro': 0.7, 'f1_weight': 0.6989343840583071}\n",
      "[0.8        0.85714286 0.63492063 0.72727273 0.5        0.92307692\n",
      " 0.58823529 0.93333333 0.71428571 0.66666667 0.69565217 0.52631579\n",
      " 0.         0.33333333 0.66666667 0.83333333 1.         0.4\n",
      " 0.66666667 0.8        0.8        1.         0.66666667 0.8\n",
      " 1.         0.66666667 0.85714286 0.         0.66666667 0.66666667\n",
      " 1.         0.8        1.         0.        ]\n",
      "0.6820797540591987\n",
      "result at cv4\n"
     ]
    },
    {
     "name": "stderr",
     "output_type": "stream",
     "text": [
      "100%|██████████| 6/6 [00:16<00:00,  2.74s/it]\n"
     ]
    },
    {
     "name": "stdout",
     "output_type": "stream",
     "text": [
      "trainset score: {'f1_macro': 1.0, 'f1_micro': 1.0, 'f1_weight': 1.0}\n"
     ]
    },
    {
     "name": "stderr",
     "output_type": "stream",
     "text": [
      "100%|██████████| 2/2 [00:02<00:00,  1.23s/it]\n"
     ]
    },
    {
     "name": "stdout",
     "output_type": "stream",
     "text": [
      "valset score: {'f1_macro': 0.7148029893861203, 'f1_micro': 0.7672955974842768, 'f1_weight': 0.7576765079321915}\n",
      "[0.28571429 0.66666667 0.78688525 0.75       0.52631579 0.8\n",
      " 0.75       0.82352941 0.92307692 0.8        0.85714286 0.88888889\n",
      " 0.         0.5        0.33333333 0.90909091 1.         0.66666667\n",
      " 0.5        1.         1.         0.8        1.         1.\n",
      " 0.88888889 0.66666667 0.8        0.57142857 0.         1.\n",
      " 0.85714286 0.         1.         0.66666667 1.        ]\n",
      "0.7148029893861203\n",
      "result at cv5\n"
     ]
    },
    {
     "name": "stderr",
     "output_type": "stream",
     "text": [
      "100%|██████████| 6/6 [00:16<00:00,  2.75s/it]\n"
     ]
    },
    {
     "name": "stdout",
     "output_type": "stream",
     "text": [
      "trainset score: {'f1_macro': 0.9992843201040988, 'f1_micro': 0.9993489583333334, 'f1_weight': 0.999345061402082}\n"
     ]
    },
    {
     "name": "stderr",
     "output_type": "stream",
     "text": [
      "100%|██████████| 2/2 [00:02<00:00,  1.22s/it]"
     ]
    },
    {
     "name": "stdout",
     "output_type": "stream",
     "text": [
      "valset score: {'f1_macro': 0.6951847613934817, 'f1_micro': 0.7232704402515723, 'f1_weight': 0.7156688512725665}\n",
      "[0.58823529 0.8        0.77192982 0.44444444 0.75       0.57142857\n",
      " 0.71428571 0.875      0.8        0.4        0.63636364 0.8\n",
      " 1.         0.8        1.         0.66666667 1.         0.\n",
      " 0.8        1.         0.57142857 0.66666667 0.         0.75\n",
      " 0.90909091 0.8        0.8        0.44444444 1.         1.\n",
      " 0.         1.         0.         0.66666667 1.         1.        ]\n",
      "0.6951847613934817\n"
     ]
    },
    {
     "name": "stderr",
     "output_type": "stream",
     "text": [
      "\n"
     ]
    }
   ],
   "source": [
    "from data_helper import Dataloaders\n",
    "from sklearn.metrics import f1_score\n",
    "epoch = 0\n",
    "args.batch_size = args.test_batch_size\n",
    "\n",
    "def get_res(model, dataloader):\n",
    "    model.eval()\n",
    "    predictions = []\n",
    "    true_labels = []\n",
    "    with torch.no_grad():\n",
    "        for batch in tqdm(dataloader):\n",
    "            batch = {k:v.to('cuda') for k,v in batch.items()}\n",
    "            pred_label_id, out = model(data=batch)\n",
    "            predictions.extend(pred_label_id.cpu().numpy())\n",
    "            true_labels.extend(batch['label'].cpu().numpy())\n",
    "\n",
    "    return eval_fcn(predictions, true_labels), f1_score(true_labels, predictions, average=None)\n",
    "\n",
    "total_f1s = []\n",
    "for cv in range(6):\n",
    "    print(f'result at cv{cv}')\n",
    "    # get the filename of the max f1 score from this cv\n",
    "    thiscv = [x for x in os.listdir(args.savedmodel_filepath) if f'cv{cv}' in x]\n",
    "    f1s = np.array([eval('0.'+x.split('_')[-1].split('.')[1]) for x in thiscv])\n",
    "    selected = thiscv[np.where(f1s==max(f1s))[0][0]]\n",
    "    args.ckpt_file = osp.join(args.savedmodel_filepath, selected)\n",
    "\n",
    "    checkpoint = torch.load(args.ckpt_file)\n",
    "    model.load_state_dict(checkpoint['model_state_dict'],strict=False)\n",
    "\n",
    "    args.cv_id = cv\n",
    "    dataloaders = Dataloaders(args,total_epochs=args.max_epochs)\n",
    "    train_dataloader, val_dataloader, aug_dataloader, pseudo_dataloader = dataloaders.get(epoch)\n",
    "    \n",
    "    res, _ = get_res(model, train_dataloader)\n",
    "    print(f\"trainset score: {res}\")\n",
    "\n",
    "    res, f1 = get_res(model, val_dataloader)\n",
    "    print(f\"valset score: {res}\")\n",
    "\n",
    "    print(f1)\n",
    "    print(f1.mean())\n",
    "    total_f1s.append(f1)"
   ]
  },
  {
   "cell_type": "markdown",
   "metadata": {},
   "source": [
    "### there is hugh score difference between trainset and valset, lets see if this is cause by sample imbalance"
   ]
  },
  {
   "cell_type": "code",
   "execution_count": 11,
   "metadata": {},
   "outputs": [
    {
     "name": "stdout",
     "output_type": "stream",
     "text": [
      "958\n"
     ]
    }
   ],
   "source": [
    "labels = [x['label_id'] for x in anns]\n",
    "print(len(labels))\n",
    "_, counts = np.unique(labels, return_counts=True)"
   ]
  },
  {
   "cell_type": "code",
   "execution_count": 13,
   "metadata": {},
   "outputs": [
    {
     "name": "stdout",
     "output_type": "stream",
     "text": [
      "718\n",
      "240\n"
     ]
    }
   ],
   "source": [
    "print(sum(counts[:18]))\n",
    "print(sum(counts[18:]))"
   ]
  },
  {
   "cell_type": "markdown",
   "metadata": {},
   "source": [
    "### the sample size between first and second half is more than 3x difference"
   ]
  },
  {
   "cell_type": "code",
   "execution_count": 111,
   "metadata": {},
   "outputs": [
    {
     "name": "stdout",
     "output_type": "stream",
     "text": [
      "0.05572038177016819\n",
      "0.004335632401108592\n",
      "0.003259658243318616\n",
      "0.017018793751898607\n",
      "0.024860640880954823\n",
      "0.021684875231328764\n",
      "0.005396200555385553\n",
      "0.0010288547911297167\n",
      "0.012656516324723114\n",
      "0.03671156004489338\n",
      "0.005604942349514729\n",
      "0.012721375050273915\n",
      "0.13888888888888892\n",
      "0.07627314814814815\n",
      "0.11685563114134544\n",
      "0.006805454045713792\n",
      "0.0\n",
      "0.104320987654321\n",
      "0.012953514739229026\n",
      "0.01728395061728395\n",
      "0.016439909297052146\n",
      "0.023611111111111114\n",
      "0.16358024691358022\n",
      "0.0073582766439909296\n",
      "0.006700903535920361\n",
      "0.015432098765432107\n",
      "0.013134290753338378\n",
      "0.05929173315416702\n",
      "0.16358024691358022\n",
      "0.02469135802469136\n",
      "0.10159989921894684\n",
      "0.18024691358024691\n",
      "0.22222222222222224\n",
      "0.11111111111111112\n",
      "0.1379591836734694\n",
      "0.1728395061728395\n"
     ]
    }
   ],
   "source": [
    "# put predictions of each class from every fold together & check variance\n",
    "tot = []\n",
    "for i in range(36):\n",
    "    # if i > 0:\n",
    "    #     break\n",
    "    tmp = []\n",
    "    for j in range(6):\n",
    "        try:\n",
    "            tmp.append(total_f1s[j][i])\n",
    "        except:\n",
    "            pass\n",
    "    tot.append(tmp)\n",
    "\n",
    "vars = []\n",
    "for clss in tot:\n",
    "    vars.append(np.var(clss))\n",
    "    print(np.var(clss))"
   ]
  },
  {
   "cell_type": "code",
   "execution_count": 112,
   "metadata": {},
   "outputs": [
    {
     "name": "stdout",
     "output_type": "stream",
     "text": [
      "0.6441435412731152\n",
      "1.4500364764482132\n"
     ]
    }
   ],
   "source": [
    "print(sum(vars[:18]))\n",
    "print(sum(vars[18:]))"
   ]
  },
  {
   "cell_type": "markdown",
   "metadata": {},
   "source": [
    "### variance for little sample class is much higher, so lets improve by:\n",
    "1. make loss weights weighted by sample size\n",
    "2. new samplling strategy for over/under sampling\n",
    "3. pseudo_label weighted thresholds"
   ]
  },
  {
   "cell_type": "code",
   "execution_count": 30,
   "metadata": {},
   "outputs": [
    {
     "data": {
      "image/png": "[encoded data removed]",
      "text/plain": [
       "<Figure size 1000x600 with 1 Axes>"
      ]
     },
     "metadata": {},
     "output_type": "display_data"
    }
   ],
   "source": [
    "freq = [x/sum(counts) for x in counts]\n",
    "import matplotlib.pyplot as plt\n",
    "xs=[*range(len(freq))]\n",
    "ys=freq\n",
    "\n",
    "plt.figure(figsize=(10,6), dpi=100)\n",
    "for x, y in zip(xs, ys):\n",
    "    plt.bar(x, height=y, width=0.5)\n",
    "plt.show()"
   ]
  },
  {
   "cell_type": "code",
   "execution_count": 51,
   "metadata": {},
   "outputs": [
    {
     "data": {
      "image/png": "[encoded data removed]",
      "text/plain": [
       "<Figure size 1000x600 with 1 Axes>"
      ]
     },
     "metadata": {},
     "output_type": "display_data"
    }
   ],
   "source": [
    "inv_count = [1/x for x in counts]\n",
    "freq = [x/sum(inv_count)*len(counts) for x in inv_count]\n",
    "\n",
    "xs=[*range(len(freq))]\n",
    "ys=freq\n",
    "\n",
    "plt.figure(figsize=(10,6), dpi=100)\n",
    "for x, y in zip(xs, ys):\n",
    "    plt.bar(x, height=y, width=0.5)\n",
    "plt.show()"
   ]
  },
  {
   "cell_type": "code",
   "execution_count": null,
   "metadata": {},
   "outputs": [],
   "source": [
    "import torch.nn.functional as F\n",
    "freq = [x/max(counts)/100 for x in counts]\n",
    "xs=[*range(len(freq))]\n",
    "ys=F.softmax(torch.tensor(freq).double())\n",
    "\n",
    "plt.figure(figsize=(10,6), dpi=100)\n",
    "for x, y in zip(xs, ys):\n",
    "    plt.bar(x, height=y, width=0.5)\n",
    "plt.show()"
   ]
  },
  {
   "cell_type": "code",
   "execution_count": 36,
   "metadata": {},
   "outputs": [
    {
     "data": {
      "image/png": "[encoded data removed]",
      "text/plain": [
       "<Figure size 1000x600 with 1 Axes>"
      ]
     },
     "metadata": {},
     "output_type": "display_data"
    }
   ],
   "source": [
    "freq = [x/max(counts) for x in counts]\n",
    "xs=[*range(len(freq))]\n",
    "ys=freq\n",
    "\n",
    "plt.figure(figsize=(10,6), dpi=100)\n",
    "for x, y in zip(xs, ys):\n",
    "    plt.bar(x, height=y, width=0.5)\n",
    "plt.show()"
   ]
  },
  {
   "cell_type": "code",
   "execution_count": 46,
   "metadata": {},
   "outputs": [
    {
     "data": {
      "image/png": "[encoded data removed]",
      "text/plain": [
       "<Figure size 1000x600 with 1 Axes>"
      ]
     },
     "metadata": {},
     "output_type": "display_data"
    }
   ],
   "source": [
    "import torch.nn.functional as F\n",
    "freq = [x/max(counts)/100 for x in counts]\n",
    "xs=[*range(len(freq))]\n",
    "ys=F.softmax(torch.tensor(freq).double())\n",
    "\n",
    "plt.figure(figsize=(10,6), dpi=100)\n",
    "for x, y in zip(xs, ys):\n",
    "    plt.bar(x, height=y, width=0.5)\n",
    "plt.show()"
   ]
  },
  {
   "cell_type": "code",
   "execution_count": 53,
   "metadata": {},
   "outputs": [
    {
     "data": {
      "text/plain": [
       "array([ 33,  19, 183,  33,  44,  36,  47,  48,  39,  25,  52,  54,   7,\n",
       "        16,  19,  33,  17,  13,  16,  13,  25,  12,   5,  22,  29,  16,\n",
       "        17,  22,   8,   7,  13,   4,   5,   8,  18])"
      ]
     },
     "execution_count": 53,
     "metadata": {},
     "output_type": "execute_result"
    }
   ],
   "source": [
    "counts"
   ]
  },
  {
   "cell_type": "code",
   "execution_count": 48,
   "metadata": {},
   "outputs": [
    {
     "data": {
      "text/plain": [
       "array([0.4416831 , 0.76180308, 0.08573839, 0.4416831 , 0.33307844,\n",
       "       0.40548075, 0.31228287, 0.30592877, 0.37484854, 0.58070434,\n",
       "       0.2829567 , 0.27274716, 2.05540243, 0.90328849, 0.76180308,\n",
       "       0.4416831 , 0.8505781 , 1.11007652, 0.90328849, 1.11007652,\n",
       "       0.58070434, 1.2019827 , 2.87468872, 0.65890558, 0.50160539,\n",
       "       0.90328849, 0.8505781 , 0.65890558, 1.79937592, 2.05540243,\n",
       "       1.11007652, 3.59156512, 2.87468872, 1.79937592, 0.80372455])"
      ]
     },
     "execution_count": 48,
     "metadata": {},
     "output_type": "execute_result"
    }
   ],
   "source": [
    "beta = 0.999\n",
    "effective_num = 1.0 - np.power(beta, counts)\n",
    "weights = (1.0 - beta) / np.array(effective_num)\n",
    "weights = weights/np.sum(weights) * len(counts)\n",
    "weights\n"
   ]
  },
  {
   "cell_type": "code",
   "execution_count": 49,
   "metadata": {},
   "outputs": [
    {
     "data": {
      "image/png": "[encoded data removed]",
      "text/plain": [
       "<Figure size 1000x600 with 1 Axes>"
      ]
     },
     "metadata": {},
     "output_type": "display_data"
    }
   ],
   "source": [
    "ys = weights\n",
    "xs = [*range(len(ys))]\n",
    "plt.figure(figsize=(10,6), dpi=100)\n",
    "for x, y in zip(xs, ys):\n",
    "    plt.bar(x, height=y, width=0.5)\n",
    "plt.show()"
   ]
  },
  {
   "cell_type": "code",
   "execution_count": null,
   "metadata": {},
   "outputs": [],
   "source": []
  }
 ],
 "metadata": {
  "kernelspec": {
   "display_name": "Python 3.8.0 ('yangsc_torch15')",
   "language": "python",
   "name": "python3"
  },
  "language_info": {
   "codemirror_mode": {
    "name": "ipython",
    "version": 3
   },
   "file_extension": ".py",
   "mimetype": "text/x-python",
   "name": "python",
   "nbconvert_exporter": "python",
   "pygments_lexer": "ipython3",
   "version": "3.8.0"
  },
  "orig_nbformat": 4,
  "vscode": {
   "interpreter": {
    "hash": "61fcbaeeda308cce842442d0328fb7a72a4b7fd10184aafa6a1c907b6d16a8b5"
   }
  }
 },
 "nbformat": 4,
 "nbformat_minor": 2
}
