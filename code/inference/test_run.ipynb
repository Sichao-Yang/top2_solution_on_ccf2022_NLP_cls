{
 "cells": [
  {
   "cell_type": "code",
   "execution_count": 2,
   "id": "98778f83-1ca7-4094-90c3-8714c4e6fbeb",
   "metadata": {},
   "outputs": [
    {
     "name": "stdout",
     "output_type": "stream",
     "text": [
      "1.10.1+cu111\n"
     ]
    }
   ],
   "source": [
    "import random\n",
    "import numpy as np\n",
    "from tqdm import tqdm\n",
    "import time\n",
    "from functools import partial\n",
    "import scipy as sp\n",
    "import joblib\n",
    "import gc\n",
    "from sklearn.model_selection import StratifiedKFold\n",
    "import re\n",
    "import math\n",
    "import json\n",
    "from sklearn.metrics import accuracy_score, f1_score\n",
    "import pandas as pd\n",
    "import torch\n",
    "import torch.nn as nn\n",
    "import torch.nn.functional as F\n",
    "from torch.utils.data import Dataset\n",
    "from torch.nn.utils.rnn import pad_sequence\n",
    "\n",
    "\n",
    "from sklearn.metrics import accuracy_score, f1_score\n",
    "from torch.utils.data import (DataLoader, RandomSampler, SequentialSampler,\n",
    "                              TensorDataset)\n",
    "from sklearn.metrics import accuracy_score\n",
    "\n",
    "from NEZHA.modeling_nezha import NeZhaModel\n",
    "from NEZHA.configuration_nezha import NeZhaConfig\n",
    "# from transformers import NezhaModel\n",
    "# from transformers import NezhaConfig\n",
    "\n",
    "from transformers import *\n",
    "import logging\n",
    "print(torch.__version__)\n",
    "import warnings\n",
    "import transformers\n",
    "transformers.logging.set_verbosity_error()\n",
    "warnings.filterwarnings('ignore')\n",
    "\n",
    "\n",
    "from models import *\n"
   ]
  },
  {
   "cell_type": "code",
   "execution_count": 3,
   "id": "6452ad3e-823b-4970-bb93-0afc750c4fde",
   "metadata": {},
   "outputs": [],
   "source": [
    "with open('../raw_data/train.json', 'r') as f:\n",
    "    train_data = f.readlines()\n",
    "    train_data = [eval(i.strip())for i in train_data]\n",
    "    \n",
    "with open('../raw_data/train.json', 'r') as f:\n",
    "    test_a = f.readlines()\n",
    "    test_a = [eval(i.strip())for i in test_a]\n",
    "    \n",
    "with open('../raw_data/testB.json', 'r') as f:\n",
    "    test_b = f.readlines()\n",
    "    test_b = [eval(i.strip())for i in test_b]\n",
    "    \n",
    "with open('../raw_data/final_pseudo_b.json', 'r') as f:\n",
    "    pseudo_data_b = json.load(f)"
   ]
  },
  {
   "cell_type": "code",
   "execution_count": 4,
   "id": "bc292dcb-e6a9-47ae-9fa5-f7c439bcd1dc",
   "metadata": {},
   "outputs": [],
   "source": [
    "def create_traindata(train_data, tokenizer, max_len=412):\n",
    "    train_dict ={'input_ids': [], 'token_type_ids': [], 'attention_mask': [], 'input_lengths':[], 'labels': []}\n",
    "\n",
    "#     max_len = args.max_length - 4\n",
    "    for train_data_ in tqdm(train_data[: ]):\n",
    "        title = train_data_['title']\n",
    "        assignee = train_data_['assignee']\n",
    "        abstract = train_data_['abstract']\n",
    "        label = int(train_data_['label_id'])\n",
    "\n",
    "        title_ids_ori = tokenizer.encode(title, add_special_tokens=False)[:30]\n",
    "        assignee_ids_ori = tokenizer.encode(assignee, add_special_tokens=False)[-10:]\n",
    "        abstract_ids_ori = tokenizer.encode(abstract, add_special_tokens=False)\n",
    "\n",
    "        title_len = len(title_ids_ori)\n",
    "        assignee_len = len(assignee_ids_ori)\n",
    "        abstract_len = len(abstract_ids_ori)\n",
    "\n",
    "        abstract_cutlen = max_len - title_len - assignee_len\n",
    "\n",
    "        if abstract_cutlen >= abstract_len:\n",
    "            token_ids = [101] + title_ids_ori + [102] + assignee_ids_ori + [102] + abstract_ids_ori + [102]\n",
    "        else:\n",
    "            mid_len = int(abstract_cutlen / 2)\n",
    "            token_ids = [101] + title_ids_ori + [102] + assignee_ids_ori + [102] + abstract_ids_ori[: mid_len] + abstract_ids_ori[-mid_len: ] + [102]\n",
    "        token_type_ids = [0] * len(token_ids)\n",
    "        attention_mask = [1] * len(token_ids)\n",
    "        input_lengths = len(token_ids)\n",
    "\n",
    "        train_dict['input_ids'].append(token_ids)\n",
    "        train_dict['token_type_ids'].append(token_type_ids)\n",
    "        train_dict['attention_mask'].append(attention_mask)\n",
    "        train_dict['input_lengths'].append(input_lengths)\n",
    "        train_dict['labels'].append(label)\n",
    "\n",
    "    train_dict = {k: np.array(train_dict[k]) for k in train_dict}\n",
    "    return train_dict\n",
    "\n",
    "\n",
    "def create_testdata(test_data, tokenizer, max_len=412):\n",
    "    test_dict ={'input_ids': [], 'token_type_ids': [], 'attention_mask': [], 'input_lengths':[], 'data_idx': []}\n",
    "    test_data_all = []\n",
    "    for idx, i in enumerate(test_data):\n",
    "        i['data_idx']=idx\n",
    "        test_data_all.append(i)\n",
    "\n",
    "    for idx, test_data_ in tqdm(enumerate(test_data_all)):\n",
    "        title = test_data_['title']\n",
    "        assignee = test_data_['assignee']\n",
    "        abstract = test_data_['abstract']\n",
    "\n",
    "        title_ids_ori = tokenizer.encode(title, add_special_tokens=False)[:30]\n",
    "        assignee_ids_ori = tokenizer.encode(assignee, add_special_tokens=False)[-10:]\n",
    "        abstract_ids_ori = tokenizer.encode(abstract, add_special_tokens=False)\n",
    "\n",
    "        title_len = len(title_ids_ori)\n",
    "        assignee_len = len(assignee_ids_ori)\n",
    "        abstract_len = len(abstract_ids_ori)\n",
    "\n",
    "        abstract_cutlen = max_len - title_len - assignee_len\n",
    "\n",
    "        if abstract_cutlen >= abstract_len:\n",
    "            token_ids = [101] + title_ids_ori + [102] + assignee_ids_ori + [102] + abstract_ids_ori + [102]\n",
    "        else:\n",
    "            mid_len = int(abstract_cutlen / 2)\n",
    "            token_ids = [101] + title_ids_ori + [102] + assignee_ids_ori + [102] + abstract_ids_ori[: mid_len] + abstract_ids_ori[-mid_len: ] + [102]\n",
    "        token_type_ids = [0] * len(token_ids)\n",
    "        attention_mask = [1] * len(token_ids)\n",
    "        input_lengths = len(token_ids)\n",
    "\n",
    "        test_dict['input_ids'].append(token_ids)\n",
    "        test_dict['token_type_ids'].append(token_type_ids)\n",
    "        test_dict['attention_mask'].append(attention_mask)\n",
    "        test_dict['input_lengths'].append(input_lengths)\n",
    "        test_dict['data_idx'].append(idx)\n",
    "\n",
    "\n",
    "    test_dict = {k: np.array(test_dict[k]) for k in test_dict}\n",
    "    return test_dict"
   ]
  },
  {
   "cell_type": "code",
   "execution_count": 5,
   "id": "b7d9655e-b099-46f0-b14f-435f5882c096",
   "metadata": {},
   "outputs": [],
   "source": [
    "class args(object):\n",
    "    \n",
    "    def __init__(self):\n",
    "        \n",
    "        self.model_checkpoint =  '../user_data/nezha_model'\n",
    "        self.bert_model_checkpoint = '../user_data/mac_bert_model'\n",
    "        self.device = 'cuda'\n",
    "        self.max_length = 412\n",
    "        self.bert_dim = 768\n",
    "        self.test_batch_size = 64\n",
    "        \n",
    "        self.num_reinit_layers = 0\n",
    "        self.reinit_pooler = False\n",
    "        self.layerwise_learning_rate_decay = 1\n",
    "        \n",
    "args = args()\n",
    "tokenizer = BertTokenizer.from_pretrained(args.model_checkpoint)"
   ]
  },
  {
   "cell_type": "code",
   "execution_count": 6,
   "id": "5c2826c2-b49d-457f-b164-57e56a1e59e4",
   "metadata": {},
   "outputs": [],
   "source": [
    "# train_dict = create_traindata(train_data, tokenizer)\n",
    "# pseudo_dict_b = create_traindata(pseudo_data_b, tokenizer)"
   ]
  },
  {
   "cell_type": "code",
   "execution_count": 7,
   "id": "cbe8b457-eee3-4600-90c5-19ad320693f4",
   "metadata": {},
   "outputs": [],
   "source": [
    "class WBDataset(Dataset):\n",
    "\n",
    "    def __init__(self, data, tokenizer, batch_first=True, test=False):\n",
    "        self.data = data\n",
    "        self.tokenizer = tokenizer\n",
    "        self.pad = tokenizer.pad_token_id\n",
    "        self.batch_first = batch_first\n",
    "        self.test = test\n",
    "\n",
    "    def __len__(self):\n",
    "        return len(self.data['input_ids'])\n",
    "\n",
    "    def __getitem__(self, index):\n",
    "        instance = {}\n",
    "        instance['input_ids'] = self.data['input_ids'][index]\n",
    "        instance['token_type_ids'] = self.data['token_type_ids'][index]\n",
    "        instance['attention_mask'] = self.data['attention_mask'][index]\n",
    "        instance['input_lengths'] = self.data['input_lengths'][index]\n",
    "        if not self.test:\n",
    "            instance['labels'] = self.data['labels'][index]\n",
    "        else:\n",
    "            instance['data_idx'] = self.data['data_idx'][index]\n",
    "        \n",
    "        return instance\n",
    "\n",
    "    def collate(self, batch):\n",
    "        \n",
    "        input_ids = pad_sequence(\n",
    "            [torch.tensor(instance[\"input_ids\"], dtype=torch.long) for instance in batch],\n",
    "            batch_first=self.batch_first, padding_value=self.pad)\n",
    "        \n",
    "        token_type_ids = pad_sequence(\n",
    "            [torch.tensor(instance[\"token_type_ids\"], dtype=torch.long) for instance in batch],\n",
    "            batch_first=self.batch_first, padding_value=self.pad)\n",
    "        \n",
    "        attention_mask = pad_sequence(\n",
    "            [torch.tensor(instance[\"attention_mask\"], dtype=torch.long) for instance in batch],\n",
    "            batch_first=self.batch_first, padding_value=self.pad)\n",
    "        \n",
    "        input_lengths = torch.tensor([torch.tensor(instance[\"input_lengths\"], dtype=torch.int) for instance in batch])\n",
    "        \n",
    "        if not self.test:\n",
    "            labels = torch.tensor([torch.tensor(instance[\"labels\"], dtype=torch.long) for instance in batch])\n",
    "\n",
    "            return input_ids, token_type_ids, attention_mask, input_lengths, labels\n",
    "        else:\n",
    "            data_idx = torch.tensor([torch.tensor(instance[\"data_idx\"], dtype=torch.long) for instance in batch])\n",
    "            \n",
    "            return input_ids, token_type_ids, attention_mask, input_lengths, data_idx"
   ]
  },
  {
   "cell_type": "code",
   "execution_count": 8,
   "id": "bd88c378-d148-4618-90dc-442352599a90",
   "metadata": {},
   "outputs": [],
   "source": [
    "\n",
    "def test_model(model, test_loader, test_count):\n",
    "    \n",
    "    test_preds_fold = np.zeros((test_count, 36)) ####\n",
    "    \n",
    "    model.eval()\n",
    "    tk0 = tqdm(test_loader, total=len(test_loader))\n",
    "    with torch.no_grad():\n",
    "        for i, batch in enumerate(tk0):\n",
    "            batch = tuple(t.to(device) for t in batch)\n",
    "            ids, segids, mask, lens, y_truth = batch\n",
    "\n",
    "            y_pred = model(\n",
    "                input_ids = ids, \n",
    "                input_mask = mask, \n",
    "                input_segids = segids,\n",
    "                input_lengths = lens,\n",
    "            )[0] \n",
    "\n",
    "            y_pred = torch.softmax(y_pred, dim=-1).cpu().detach().numpy()\n",
    "            test_bidx= i * test_batch_size\n",
    "            test_eidx= (i + 1) * test_batch_size\n",
    "            test_preds_fold[test_bidx:test_eidx] = y_pred\n",
    "            \n",
    "    return test_preds_fold"
   ]
  },
  {
   "cell_type": "code",
   "execution_count": 9,
   "id": "7c5b670a-c8cb-420f-9214-9bcda61bf9b3",
   "metadata": {},
   "outputs": [
    {
     "name": "stderr",
     "output_type": "stream",
     "text": [
      "20890it [01:01, 338.50it/s]\n"
     ]
    }
   ],
   "source": [
    "test_dict = create_testdata(test_b, tokenizer)\n",
    "test_batch_size = args.test_batch_size\n",
    "test_dataset =  WBDataset(test_dict, tokenizer, test=True)\n",
    "test_loader = DataLoader(test_dataset, batch_size=test_batch_size, collate_fn=test_dataset.collate, shuffle=False, num_workers=4)"
   ]
  },
  {
   "cell_type": "code",
   "execution_count": 22,
   "id": "15d2c886-3f4c-4f99-b4fe-26341f689aaa",
   "metadata": {},
   "outputs": [],
   "source": [
    "import os\n",
    "file_names = []\n",
    "file_path = r'../user_data/model_bin/'\n",
    "#提取文件中的所有文件生成一个列表\n",
    "folders = os.listdir(file_path)\n",
    "for file in folders:\n",
    "    if '.bin' in file:\n",
    "        file_names.append(file_path + file)\n",
    "        file_names.sort()"
   ]
  },
  {
   "cell_type": "code",
   "execution_count": 15,
   "id": "ebcd689e-a3a8-465d-906a-c937c09bbbcf",
   "metadata": {},
   "outputs": [],
   "source": [
    "device = torch.device('cuda')\n",
    "nezhaModelBertLastFourEmbeddingsPooler = BertLastFourEmbeddingsPooler(args, nezha=True, load_pretrained=False).to(device)\n",
    "nezhaModelBertLastTwoCls = BertLastTwoCls(args, nezha=True, load_pretrained=False).to(device)\n",
    "nezhaModelBertLastFourCls = BertLastFourCls(args, nezha=True, load_pretrained=False).to(device)\n",
    "\n",
    "bertModelBertLastFourEmbeddingsPooler = BertLastFourEmbeddingsPooler(args, nezha=False, load_pretrained=False).to(device)\n",
    "bertModelBertLastTwoCls = BertLastTwoCls(args, nezha=False, load_pretrained=False).to(device)\n",
    "bertModelBertLastFourCls = BertLastFourCls(args, nezha=False, load_pretrained=False).to(device)"
   ]
  },
  {
   "cell_type": "code",
   "execution_count": 23,
   "id": "1d97fdf6-be3e-4e64-b430-386fdc316d55",
   "metadata": {},
   "outputs": [
    {
     "data": {
      "text/plain": [
       "['../user_data/model_bin/macbert_base-pseudo_labels_b+2etraindata-fp16-BertLastFourEmbeddingsPooler-ce-seed1990-gkf1990-layerwise1-wd0.0001-warmp0.0-n_splits3-grad_acc1-num_epochs12-3e-05-32_fold_0.bin',\n",
       " '../user_data/model_bin/nezha_base-pseudo_labels_b+2etraindata-BertLastFourEmbeddingsPooler-ce-seed666-gkf666-layerwise1-wd0.0001-warmp0.0-n_splits3-grad_acc1-num_epochs10-3e-05-32_fold_2.bin',\n",
       " '../user_data/model_bin/nezha_base-pseudo_labels_b-BertLastFourCls-ce-seed666-gkf666-layerwise1-wd0.0001-warmp0.0-n_splits3-grad_acc1-num_epochs10-3e-05-32_fold_1.bin']"
      ]
     },
     "execution_count": 23,
     "metadata": {},
     "output_type": "execute_result"
    }
   ],
   "source": [
    "file_names"
   ]
  },
  {
   "cell_type": "code",
   "execution_count": 32,
   "id": "3330c058-7f60-4342-bfcf-d1261b9f6937",
   "metadata": {},
   "outputs": [
    {
     "name": "stderr",
     "output_type": "stream",
     "text": [
      "100%|██████████| 327/327 [01:21<00:00,  3.99it/s]\n",
      "100%|██████████| 327/327 [01:45<00:00,  3.11it/s]\n",
      "100%|██████████| 327/327 [01:44<00:00,  3.12it/s]\n"
     ]
    }
   ],
   "source": [
    "b_test_preds = {}\n",
    "for file_name in file_names[:]:\n",
    "    if 'LastFourCls' in file_name:\n",
    "        if 'nezha' in file_name:\n",
    "            model = nezhaModelBertLastFourCls\n",
    "        else:\n",
    "            model = bertModelBertLastFourCls\n",
    "    elif 'LastFourEmbeddingsPooler' in file_name:\n",
    "        if 'nezha' in file_name:\n",
    "            model = nezhaModelBertLastFourEmbeddingsPooler\n",
    "        else:\n",
    "            model = bertModelBertLastFourEmbeddingsPooler\n",
    "    elif 'LastTwoCls' in file_name:\n",
    "        if 'nezha' in file_name:\n",
    "            model = nezhaModelBertLastTwoCls\n",
    "        else:\n",
    "            model = bertModelBertLastTwoCls\n",
    "    else:\n",
    "        print(fine_name)\n",
    "    \n",
    "    model.load_state_dict(torch.load(file_name))\n",
    "    test_pred = test_model(model, test_loader, len(test_b))\n",
    "    b_test_preds[file_name] = test_pred"
   ]
  },
  {
   "cell_type": "code",
   "execution_count": 33,
   "id": "a4dfb264-e738-4582-8ef8-1ab92ea51873",
   "metadata": {},
   "outputs": [],
   "source": [
    "df_pred = pd.read_csv('../raw_data/submit_example_B.csv')"
   ]
  },
  {
   "cell_type": "code",
   "execution_count": 34,
   "id": "409deefd-87e9-411a-9a82-4162500fb78a",
   "metadata": {},
   "outputs": [],
   "source": [
    "test_preds = []\n",
    "for k, v in b_test_preds.items():\n",
    "    test_preds.append(v)"
   ]
  },
  {
   "cell_type": "code",
   "execution_count": 37,
   "id": "76d83e3b-7e68-4000-8001-ee51aef2ba15",
   "metadata": {},
   "outputs": [],
   "source": [
    "final_preds = np.zeros(test_preds[0].shape)\n",
    "for idx in range(len(test_preds)):\n",
    "    \n",
    "    if idx != 1: continue\n",
    "    \n",
    "    test_preds_fold = test_preds[idx]\n",
    "    final_preds += test_preds_fold / len(test_preds)\n",
    "    \n",
    "final_reses = np.argmax(final_preds, axis=1)\n",
    "\n",
    "final_sub = []\n",
    "for i in range(len(df_pred)):\n",
    "    final_res = final_reses[i]\n",
    "    final_sub.append(final_res)"
   ]
  },
  {
   "cell_type": "code",
   "execution_count": 41,
   "id": "5a575815-5dc7-4712-9fe4-2cca690397db",
   "metadata": {},
   "outputs": [],
   "source": [
    "df_pred['label'] = final_sub\n",
    "df_pred.to_csv('../prediction_result/submit_example.csv')"
   ]
  },
  {
   "cell_type": "code",
   "execution_count": null,
   "id": "d482cb06-5501-4a44-a1ba-d940124d7cd3",
   "metadata": {},
   "outputs": [],
   "source": []
  }
 ],
 "metadata": {
  "kernelspec": {
   "display_name": "Python 3 (ipykernel)",
   "language": "python",
   "name": "python3"
  },
  "language_info": {
   "codemirror_mode": {
    "name": "ipython",
    "version": 3
   },
   "file_extension": ".py",
   "mimetype": "text/x-python",
   "name": "python",
   "nbconvert_exporter": "python",
   "pygments_lexer": "ipython3",
   "version": "3.8.10"
  }
 },
 "nbformat": 4,
 "nbformat_minor": 5
}
